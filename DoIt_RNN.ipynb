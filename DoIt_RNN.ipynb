{
 "cells": [
  {
   "cell_type": "markdown",
   "metadata": {},
   "source": [
    "# RNN 구현 \n",
    "- 파이썬 코드로 RNN 구현하기 : Do it 딥러닝 입문 "
   ]
  },
  {
   "cell_type": "code",
   "execution_count": null,
   "metadata": {},
   "outputs": [],
   "source": [
    "import numpy as np "
   ]
  },
  {
   "cell_type": "code",
   "execution_count": null,
   "metadata": {},
   "outputs": [],
   "source": [
    "\n",
    "class RecurrentNetwork:\n",
    "\n",
    "    def __init__(self, n_cells = 10, batch_size = 32, learning_rate=0.1):\n",
    "\n",
    "        self.n_cells = n_cells\n",
    "        self.batch_size = batch_size\n",
    "        self.learning_rate = learning_rate \n",
    "\n",
    "        self.w1h = None # 은닉 상태 가중치 \n",
    "        self.w1x = None # 입력에 대한 가중치 \n",
    "        self.b1 = None # 순환층 절편 \n",
    "        self.w2 = None # 출력층 가중치 \n",
    "        self.b2 = None # 출력층 절편 \n",
    "        self.h = None # 순환층 활성화 출력 \n",
    "        self.losses = [] # 훈련 손실 \n",
    "        self.val_losses = [] # 검증 손실 \n",
    "        \n",
    "    # 순전파 알고리즘 \n",
    "    def forpass(self, x):\n",
    "        \n",
    "        # 은닉 상태 초기화 \n",
    "        # - 여기서 들어오는 x는 3차원 배열 (샘플수, 행, 열)\n",
    "        # - x.shape[0]은 샘플 수\n",
    "        # - cell 수 만큼 0으로 채워진 배열이 샘플 수 만큼 들어있는 배열 만듦 \n",
    "        self.h = [np.zeros((x.shape[0], self.n_cells))] \n",
    "        \n",
    "        # 배치 차원과 타임 스텝 차원 바꾸기 \n",
    "        # - x array의 3차원 축과 2차원 축을 바꿔라 (행렬에서 차원은 열을 말함) \n",
    "        seq = np.swapaxes(x, 0, 1) \n",
    "        \n",
    "        # 순환층 선형식 계산하기 \n",
    "        # - 여기서 x가 단어 하나가 들어오는 건지, 하나의 샘플(문장) 에 있는 단어들의 행렬이 들어오는 건지 모르겠음 \n",
    "        for x in seq : \n",
    "            # 입력 가중치, hidden state, 절편 \n",
    "            z1 = np.dot(x, self.w1x) + np.dot(self.h[-1], self.w1h) + self.b1  \n",
    "            h = np.tanh(z1) # 활성화 함수 출력값 \n",
    "            self.h.append(h) # 은닉 상태 저장 \n",
    "\n",
    "            # 출력청 선형식 계산 \n",
    "            z2 = np.dot(h, self.w2) + self.b2 \n",
    "        \n",
    "        return z2 # 순전파 출력값 리턴 \n",
    "\n",
    "    # 역전파 알고리즘 \n",
    "    # - 출력값과 손실 계산하여 가중치 조정 \n",
    "    def backprop(self, x, err) : \n",
    "        m = len(x) # 샘플 갯수 \n",
    "\n",
    "        # 출력층의 가중치와 절편에 대한 그레디언트 계산 \n",
    "        w2_grad = np.dot(self.h[-1].T, err) / m \n",
    "        b2_grad = np.sum(err) / m\n",
    "\n",
    "        seq = np.swapaxes(x, 0, 1)\n",
    "\n",
    "        w1h_grad = w1x_grad = b1_grad = 0 \n",
    "        # 셀 직전까지 그레디언트 계산 \n",
    "        err_to_cell = np.dot(err, self.w2.T) * (1 - self.h[-1] ** 2)\n",
    "        # ahems xkdla tmxpq rjtmffjtj rmfpeldjsxm wjsvk \n",
    "    "
   ]
  },
  {
   "cell_type": "code",
   "execution_count": 5,
   "metadata": {},
   "outputs": [
    {
     "name": "stdout",
     "output_type": "stream",
     "text": [
      "[array([[0.]])]\n"
     ]
    }
   ],
   "source": [
    "import numpy as np \n",
    "test = [np.zeros((1,1))]\n",
    "print(test)"
   ]
  },
  {
   "cell_type": "code",
   "execution_count": 7,
   "metadata": {},
   "outputs": [
    {
     "data": {
      "text/plain": [
       "array([[0., 0., 0., 0., 0., 0., 0., 0.],\n",
       "       [0., 0., 0., 0., 0., 0., 0., 0.]])"
      ]
     },
     "execution_count": 7,
     "metadata": {},
     "output_type": "execute_result"
    }
   ],
   "source": [
    "np.zeros((2,8))"
   ]
  },
  {
   "cell_type": "code",
   "execution_count": 29,
   "metadata": {},
   "outputs": [
    {
     "data": {
      "text/plain": [
       "array([[[1, 2, 3]],\n",
       "\n",
       "       [[7, 8, 9]]])"
      ]
     },
     "execution_count": 29,
     "metadata": {},
     "output_type": "execute_result"
    }
   ],
   "source": [
    "a = [[[1,2,3],[7,8,9]]]\n",
    "a_swapped = np.swapaxes(a, 0, 1)\n",
    "a_swapped"
   ]
  },
  {
   "cell_type": "code",
   "execution_count": 30,
   "metadata": {},
   "outputs": [],
   "source": [
    "arr = np.array(a)"
   ]
  },
  {
   "cell_type": "code",
   "execution_count": 31,
   "metadata": {},
   "outputs": [
    {
     "data": {
      "text/plain": [
       "array([[[1, 2, 3],\n",
       "        [7, 8, 9]]])"
      ]
     },
     "execution_count": 31,
     "metadata": {},
     "output_type": "execute_result"
    }
   ],
   "source": [
    "arr"
   ]
  },
  {
   "cell_type": "code",
   "execution_count": 32,
   "metadata": {},
   "outputs": [
    {
     "data": {
      "text/plain": [
       "(1, 2, 3)"
      ]
     },
     "execution_count": 32,
     "metadata": {},
     "output_type": "execute_result"
    }
   ],
   "source": [
    "arr.shape"
   ]
  },
  {
   "cell_type": "code",
   "execution_count": 33,
   "metadata": {},
   "outputs": [
    {
     "data": {
      "text/plain": [
       "1"
      ]
     },
     "execution_count": 33,
     "metadata": {},
     "output_type": "execute_result"
    }
   ],
   "source": [
    "len(arr)"
   ]
  },
  {
   "cell_type": "code",
   "execution_count": 34,
   "metadata": {},
   "outputs": [
    {
     "data": {
      "text/plain": [
       "[Ellipsis]"
      ]
     },
     "execution_count": 34,
     "metadata": {},
     "output_type": "execute_result"
    }
   ],
   "source": [
    "arr = [...]\n",
    "arr"
   ]
  },
  {
   "cell_type": "code",
   "execution_count": null,
   "metadata": {},
   "outputs": [],
   "source": []
  }
 ],
 "metadata": {
  "kernelspec": {
   "display_name": "Python 3.9.7 ('base')",
   "language": "python",
   "name": "python3"
  },
  "language_info": {
   "codemirror_mode": {
    "name": "ipython",
    "version": 3
   },
   "file_extension": ".py",
   "mimetype": "text/x-python",
   "name": "python",
   "nbconvert_exporter": "python",
   "pygments_lexer": "ipython3",
   "version": "3.9.7"
  },
  "orig_nbformat": 4,
  "vscode": {
   "interpreter": {
    "hash": "522f452e25d61e127bccbf16995d738252b8ea2853de000579b55c32b7d367b0"
   }
  }
 },
 "nbformat": 4,
 "nbformat_minor": 2
}
